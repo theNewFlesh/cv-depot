{
 "cells": [
  {
   "cell_type": "code",
   "execution_count": 1,
   "id": "ed692346-b508-4921-859e-e434098fbe3b",
   "metadata": {
    "tags": []
   },
   "outputs": [],
   "source": [
    "import cv_depot.core.image as cvimg"
   ]
  },
  {
   "cell_type": "code",
   "execution_count": 2,
   "id": "1b73f52a-080f-4936-b19f-8e44800d8b66",
   "metadata": {
    "tags": []
   },
   "outputs": [
    {
     "data": {
      "application/vnd.jupyter.widget-view+json": {
       "model_id": "1cd954036b794be49dbc3920351f2f5b",
       "version_major": 2,
       "version_minor": 0
      },
      "text/plain": [
       "HBox(children=(HTML(value='<div style=\"width: 100px;\"></div>'), Dropdown(description='layer', options=('rgba',…"
      ]
     },
     "metadata": {},
     "output_type": "display_data"
    },
    {
     "data": {
      "application/vnd.jupyter.widget-view+json": {
       "model_id": "f334530aeea6414ebefcced734ec3dab",
       "version_major": 2,
       "version_minor": 0
      },
      "text/plain": [
       "HBox(children=(HTML(value='<p style=\"font-family: monospace; font-size: 13px;\">&nbsp;&nbsp;&nbsp;&nbsp;&nbsp;&…"
      ]
     },
     "metadata": {},
     "output_type": "display_data"
    },
    {
     "data": {
      "text/plain": [
       "<cv_depot.core.image.Image at 0x7efcbc1bb520>"
      ]
     },
     "execution_count": 2,
     "metadata": {},
     "output_type": "execute_result"
    }
   ],
   "source": [
    "src = '/home/ubuntu/cv-depot/resources/p-ring_s-rndr001_d-render_v001_f0001.exr'\n",
    "cvimg.Image.read(src)"
   ]
  },
  {
   "cell_type": "code",
   "execution_count": null,
   "id": "32952eee-b313-4753-b435-b31760179bba",
   "metadata": {},
   "outputs": [],
   "source": []
  }
 ],
 "metadata": {
  "kernelspec": {
   "display_name": "Python 3 (ipykernel)",
   "language": "python",
   "name": "python3"
  },
  "language_info": {
   "codemirror_mode": {
    "name": "ipython",
    "version": 3
   },
   "file_extension": ".py",
   "mimetype": "text/x-python",
   "name": "python",
   "nbconvert_exporter": "python",
   "pygments_lexer": "ipython3",
   "version": "3.10.12"
  }
 },
 "nbformat": 4,
 "nbformat_minor": 5
}
